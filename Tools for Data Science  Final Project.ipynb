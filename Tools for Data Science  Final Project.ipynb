{
 "cells": [
  {
   "cell_type": "markdown",
   "metadata": {
    "collapsed": true
   },
   "source": [
    "# My Jupyter Notebook on IBM Watson Studio"
   ]
  },
  {
   "cell_type": "markdown",
   "metadata": {},
   "source": [
    "<b> João Henrique</b><br>\n",
    "Student"
   ]
  },
  {
   "cell_type": "markdown",
   "metadata": {},
   "source": [
    "<i>I'm interested in data science because I like programming, statistics, and I want to learn how to build models to make predictions with data.</i>"
   ]
  },
  {
   "cell_type": "markdown",
   "metadata": {},
   "source": [
    "### The code below prints the sum of two variables"
   ]
  },
  {
   "cell_type": "code",
   "execution_count": 2,
   "metadata": {},
   "outputs": [
    {
     "name": "stdout",
     "output_type": "stream",
     "text": [
      "2\n"
     ]
    }
   ],
   "source": [
    "def sum(x,y):    \n",
    "    return x+y\n",
    "\n",
    "var1 = 1\n",
    "var2 = 1\n",
    "\n",
    "print(sum(var1,var2))\n",
    "\n"
   ]
  },
  {
   "cell_type": "markdown",
   "metadata": {},
   "source": [
    "<hr />\n",
    "<img width=\"100px\" height=\"100px\" src=\"https://upload.wikimedia.org/wikipedia/commons/thumb/3/38/Jupyter_logo.svg/1200px-Jupyter_logo.svg.png\" />\n",
    "\n",
    "> #### Project Jupyter is a project with goals to...\n",
    ">\n",
    "> - develop open-source software\n",
    "> - open standards\n",
    "> - and services\n",
    ">\n",
    "> for interactive computing across multiple programming languages\n",
    ">\n",
    ">  Read more -> **<a href=\"https://pt.wikipedia.org/wiki/Projeto_Jupyter\">Jupyter</a>**.\n",
    "\n",
    "<hr />\n",
    "<br>\n"
   ]
  }
 ],
 "metadata": {
  "kernelspec": {
   "display_name": "Python 3.9",
   "language": "python",
   "name": "python3"
  },
  "language_info": {
   "codemirror_mode": {
    "name": "ipython",
    "version": 3
   },
   "file_extension": ".py",
   "mimetype": "text/x-python",
   "name": "python",
   "nbconvert_exporter": "python",
   "pygments_lexer": "ipython3",
   "version": "3.9.12"
  }
 },
 "nbformat": 4,
 "nbformat_minor": 1
}
